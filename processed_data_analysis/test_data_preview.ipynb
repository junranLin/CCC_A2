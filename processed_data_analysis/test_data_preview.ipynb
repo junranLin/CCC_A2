{
 "cells": [
  {
   "cell_type": "code",
   "execution_count": 8,
   "metadata": {},
   "outputs": [],
   "source": [
    "import json\n",
    "import pandas as pd"
   ]
  },
  {
   "cell_type": "code",
   "execution_count": 12,
   "metadata": {},
   "outputs": [],
   "source": [
    "# Read JSON from a file\n",
    "with open('/Users/euniceyao/Documents/GitHub/CCC_A2/final_processed_data/sa_avg_tweet_pp_data.json') as f:\n",
    "    json_data = json.load(f)\n",
    "\n",
    "sa_code = []\n",
    "avg_twt_pp = []\n",
    "for i in json_data:\n",
    "    sa_code.append(i)\n",
    "    avg_twt_pp.append(json_data[i])\n",
    "\n",
    "df = {\n",
    "    'sa_code': sa_code,\n",
    "    'avg_twt_pp': avg_twt_pp\n",
    "}"
   ]
  },
  {
   "cell_type": "code",
   "execution_count": null,
   "metadata": {},
   "outputs": [],
   "source": []
  }
 ],
 "metadata": {
  "kernelspec": {
   "display_name": "base",
   "language": "python",
   "name": "python3"
  },
  "language_info": {
   "codemirror_mode": {
    "name": "ipython",
    "version": 3
   },
   "file_extension": ".py",
   "mimetype": "text/x-python",
   "name": "python",
   "nbconvert_exporter": "python",
   "pygments_lexer": "ipython3",
   "version": "3.10.9"
  },
  "orig_nbformat": 4
 },
 "nbformat": 4,
 "nbformat_minor": 2
}
