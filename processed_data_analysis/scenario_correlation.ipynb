{
 "cells": [
  {
   "cell_type": "code",
   "execution_count": 6,
   "metadata": {},
   "outputs": [],
   "source": [
    "# import all packages here\n",
    "import json\n",
    "import pandas as pd\n",
    "import matplotlib.pyplot as plt\n",
    "import numpy as np\n",
    "import seaborn as sns"
   ]
  },
  {
   "cell_type": "code",
   "execution_count": 7,
   "metadata": {},
   "outputs": [],
   "source": [
    "# import all data\n",
    "with open('/Users/euniceyao/Documents/GitHub/CCC_A2/final_processed_data/sa_avg_tweet_pp_sport.json') as f:\n",
    "    sport_tweets_pp = json.load(f)\n",
    "\n",
    "with open('/Users/euniceyao/Documents/GitHub/CCC_A2/final_processed_data/sa_avg_tweet_pp_data.json') as f:\n",
    "    food_tweets_pp = json.load(f)\n",
    "\n",
    "with open('/Users/euniceyao/Documents/GitHub/CCC_A2/final_processed_data/sa_avg_tweet_pp_vehicle.json') as f:\n",
    "    vehicle_tweets_pp = json.load(f)\n",
    "\n",
    "with open('/Users/euniceyao/Documents/GitHub/CCC_A2/final_processed_data/positive_sentiment_towards_sport_by_loc.json') as f:\n",
    "    sport_sentiment = json.load(f)\n",
    "\n",
    "with open('/Users/euniceyao/Documents/GitHub/CCC_A2/final_processed_data/weekly_median_income_by_loc.json') as f:\n",
    "    food_income = json.load(f)\n",
    "\n",
    "with open('/Users/euniceyao/Documents/GitHub/CCC_A2/sudo_data/scenario_2/avg_vehicle.json') as f:\n",
    "    vehicle_avg_num = json.load(f)\n"
   ]
  },
  {
   "cell_type": "code",
   "execution_count": 8,
   "metadata": {},
   "outputs": [],
   "source": [
    "# a function to turn json to df in ideal format\n",
    "def js_2_df(json_data, var_name):\n",
    "    df_dict = {'sa_code': [], var_name: []}  # Initialize an empty dictionary for DataFrame creation\n",
    "\n",
    "    for sa_code, var_data in json_data.items():\n",
    "        df_dict['sa_code'].append(sa_code)\n",
    "        df_dict[var_name].append(var_data)\n",
    "\n",
    "    df = pd.DataFrame(df_dict)  # Create DataFrame from the dictionary\n",
    "\n",
    "    return df"
   ]
  },
  {
   "cell_type": "code",
   "execution_count": 9,
   "metadata": {},
   "outputs": [],
   "source": [
    "sport_tweets_pp_df = js_2_df(sport_tweets_pp, 'sport_tweets_pp')\n",
    "sport_sentiment_df = js_2_df(sport_sentiment, 'sport_sentiment')\n",
    "food_tweets_pp_df = js_2_df(food_tweets_pp, 'food_tweets_pp')\n",
    "food_income_df = js_2_df(food_income, 'food_income')\n",
    "vehicle_tweets_pp_df = js_2_df(vehicle_tweets_pp, 'vehicle_tweets_pp')\n",
    "vehicle_avg_num_df = js_2_df(vehicle_avg_num, 'vehicle_avg_num')"
   ]
  },
  {
   "cell_type": "code",
   "execution_count": 12,
   "metadata": {},
   "outputs": [
    {
     "data": {
      "text/html": [
       "<div>\n",
       "<style scoped>\n",
       "    .dataframe tbody tr th:only-of-type {\n",
       "        vertical-align: middle;\n",
       "    }\n",
       "\n",
       "    .dataframe tbody tr th {\n",
       "        vertical-align: top;\n",
       "    }\n",
       "\n",
       "    .dataframe thead th {\n",
       "        text-align: right;\n",
       "    }\n",
       "</style>\n",
       "<table border=\"1\" class=\"dataframe\">\n",
       "  <thead>\n",
       "    <tr style=\"text-align: right;\">\n",
       "      <th></th>\n",
       "      <th>sa_code</th>\n",
       "      <th>sport_tweets_pp</th>\n",
       "    </tr>\n",
       "  </thead>\n",
       "  <tbody>\n",
       "    <tr>\n",
       "      <th>0</th>\n",
       "      <td>101</td>\n",
       "      <td>0.001393</td>\n",
       "    </tr>\n",
       "    <tr>\n",
       "      <th>1</th>\n",
       "      <td>102</td>\n",
       "      <td>0.000110</td>\n",
       "    </tr>\n",
       "    <tr>\n",
       "      <th>2</th>\n",
       "      <td>103</td>\n",
       "      <td>0.006753</td>\n",
       "    </tr>\n",
       "    <tr>\n",
       "      <th>3</th>\n",
       "      <td>104</td>\n",
       "      <td>0.001519</td>\n",
       "    </tr>\n",
       "    <tr>\n",
       "      <th>4</th>\n",
       "      <td>105</td>\n",
       "      <td>0.003674</td>\n",
       "    </tr>\n",
       "  </tbody>\n",
       "</table>\n",
       "</div>"
      ],
      "text/plain": [
       "  sa_code  sport_tweets_pp\n",
       "0     101         0.001393\n",
       "1     102         0.000110\n",
       "2     103         0.006753\n",
       "3     104         0.001519\n",
       "4     105         0.003674"
      ]
     },
     "execution_count": 12,
     "metadata": {},
     "output_type": "execute_result"
    }
   ],
   "source": [
    "sport_tweets_pp_df.head()"
   ]
  },
  {
   "cell_type": "code",
   "execution_count": null,
   "metadata": {},
   "outputs": [],
   "source": []
  }
 ],
 "metadata": {
  "kernelspec": {
   "display_name": "base",
   "language": "python",
   "name": "python3"
  },
  "language_info": {
   "codemirror_mode": {
    "name": "ipython",
    "version": 3
   },
   "file_extension": ".py",
   "mimetype": "text/x-python",
   "name": "python",
   "nbconvert_exporter": "python",
   "pygments_lexer": "ipython3",
   "version": "3.10.9"
  },
  "orig_nbformat": 4
 },
 "nbformat": 4,
 "nbformat_minor": 2
}
